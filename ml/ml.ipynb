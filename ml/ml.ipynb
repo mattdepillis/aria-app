{
 "cells": [
  {
   "cell_type": "code",
   "execution_count": 1,
   "metadata": {},
   "outputs": [],
   "source": [
    "# package imports\n",
    "import base64\n",
    "from dotenv import load_dotenv\n",
    "import numpy as np\n",
    "import os\n",
    "import pandas as pd\n",
    "import requests"
   ]
  },
  {
   "cell_type": "code",
   "execution_count": 2,
   "metadata": {},
   "outputs": [],
   "source": [
    "# read environment variables\n",
    "load_dotenv()\n",
    "# client id and secret\n",
    "SPOTIFY_API_CLIENT_ID = os.getenv('SPOTIFY_API_CLIENT_ID')\n",
    "SPOTIFY_API_CLIENT_SECRET = os.getenv('SPOTIFY_API_CLIENT_SECRET')\n",
    "# refresh token\n",
    "SPOTIFY_REFRESH_TOKEN = os.getenv('SPOTIFY_REFRESH_TOKEN')\n",
    "# api urls\n",
    "SPOTIFY_API_BASE_URL = os.getenv('SPOTIFY_API_BASE_URL')\n",
    "SPOTIFY_API_TOKEN_URL = os.getenv('SPOTIFY_API_TOKEN_URL')\n",
    "# redirect uri\n",
    "SPOTIFY_API_REDIRECT_URI = os.getenv('SPOTIFY_API_REDIRECT_URI')\n",
    "# api paths\n",
    "USER_TOP_TRACKS_ENDPOINT = os.getenv('USER_TOP_TRACKS_ENDPOINT')"
   ]
  },
  {
   "cell_type": "code",
   "execution_count": 15,
   "metadata": {},
   "outputs": [],
   "source": [
    "def get_access_token():\n",
    "    # Construct the request URL with query parameters\n",
    "    url = f\"{SPOTIFY_API_TOKEN_URL}?grant_type=refresh_token&refresh_token={SPOTIFY_REFRESH_TOKEN}\"\n",
    "\n",
    "    # Encode the client ID and client secret in base64\n",
    "    client_credentials = f\"{SPOTIFY_API_CLIENT_ID}:{SPOTIFY_API_CLIENT_SECRET}\"\n",
    "    base64_credentials = base64.b64encode(client_credentials.encode()).decode()\n",
    "\n",
    "    # Send a POST request to the token endpoint\n",
    "    response = requests.post(url, headers={\n",
    "        \"Authorization\": f\"Basic {base64_credentials}\",\n",
    "        \"Content-Type\": \"application/x-www-form-urlencoded\"\n",
    "    })\n",
    "\n",
    "    # Parse the JSON response and extract the access token\n",
    "    data = response.json()\n",
    "    access_token = data.get(\"access_token\")\n",
    "\n",
    "    return access_token"
   ]
  },
  {
   "cell_type": "code",
   "execution_count": 35,
   "metadata": {},
   "outputs": [
    {
     "name": "stdout",
     "output_type": "stream",
     "text": [
      "\n",
      " 1. Decatur - 6LACK\n",
      "\n",
      " 2. Georgia Peach - Quinn XCII\n",
      "\n",
      " 3. Lady Writer - Dire Straits\n",
      "\n",
      " 4. Hands On You - Austin George\n",
      "\n",
      " 5. Believe - NORRA, lostinspace\n",
      "\n",
      " 6. Any Colour You Like - Pink Floyd\n",
      "\n",
      " 7. Assumptions - Kaytranada Edit - Sam Gellaitry, KAYTRANADA\n",
      "\n",
      " 8. Sweet Virginia - The Rolling Stones\n",
      "\n",
      " 9. Coastal Cat - Tez Cadey\n",
      "\n",
      " 10. Shine On You Crazy Diamond (Pts. 1-5) - Pink Floyd\n",
      "\n",
      " 11. Try Me - The Weeknd\n",
      "\n",
      " 12. Speak to Me - Pink Floyd\n",
      "\n",
      " 13. KANTE (feat. Fave) - Davido, Fave\n",
      "\n",
      " 14. Jersey Giant - Elle King\n",
      "\n",
      " 15. 4EVA (feat. Pharrell Williams) - KAYTRAMINÉ, Aminé, KAYTRANADA, Pharrell Williams\n",
      "\n",
      " 16. High Noon - Kota the Friend, Statik Selektah\n",
      "\n",
      " 17. Being Me - Quinn XCII\n",
      "\n",
      " 18. Bad Boy Boogie - AC/DC\n",
      "\n",
      " 19. Running In Circles - Mat Kearney\n",
      "\n",
      " 20. So Long - Shallou, Origami Human\n"
     ]
    }
   ],
   "source": [
    "res = requests.get(f\"{SPOTIFY_API_BASE_URL}{USER_TOP_TRACKS_ENDPOINT}\", headers = {\n",
    "    \"Authorization\": f\"Bearer {get_access_token()}\"\n",
    "}).json()\n",
    "\n",
    "top_tracks = []\n",
    "\n",
    "for i, item in enumerate(res['items']):\n",
    "    artists = [artist['name'] for artist in item['artists']]\n",
    "    top_tracks.append(f\"{i + 1}. {item['name']} - {', '.join(artists)}\")\n",
    "\n",
    "for track in top_tracks:\n",
    "    print('\\n', track)"
   ]
  },
  {
   "cell_type": "code",
   "execution_count": null,
   "metadata": {},
   "outputs": [],
   "source": []
  }
 ],
 "metadata": {
  "kernelspec": {
   "display_name": "Python 3",
   "language": "python",
   "name": "python3"
  },
  "language_info": {
   "codemirror_mode": {
    "name": "ipython",
    "version": 3
   },
   "file_extension": ".py",
   "mimetype": "text/x-python",
   "name": "python",
   "nbconvert_exporter": "python",
   "pygments_lexer": "ipython3",
   "version": "3.10.11"
  },
  "orig_nbformat": 4
 },
 "nbformat": 4,
 "nbformat_minor": 2
}
