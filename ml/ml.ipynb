{
 "cells": [
  {
   "cell_type": "code",
   "execution_count": 14,
   "metadata": {},
   "outputs": [],
   "source": [
    "# package imports\n",
    "import base64\n",
    "from dotenv import load_dotenv\n",
    "import json\n",
    "import lyricsgenius as lg\n",
    "import math\n",
    "import numpy as np\n",
    "import os\n",
    "import pandas as pd\n",
    "import requests\n",
    "import urllib\n",
    "\n",
    "# relative imports\n",
    "import auth.spotify as spotify"
   ]
  },
  {
   "cell_type": "code",
   "execution_count": 5,
   "metadata": {},
   "outputs": [],
   "source": [
    "# read environment variables\n",
    "load_dotenv()\n",
    "# client id and secret\n",
    "SPOTIFY_API_CLIENT_ID = os.getenv('SPOTIFY_API_CLIENT_ID')\n",
    "SPOTIFY_API_CLIENT_SECRET = os.getenv('SPOTIFY_API_CLIENT_SECRET')\n",
    "# refresh token\n",
    "SPOTIFY_REFRESH_TOKEN = os.getenv('SPOTIFY_REFRESH_TOKEN')\n",
    "# api urls\n",
    "SPOTIFY_API_BASE_URL = os.getenv('SPOTIFY_API_BASE_URL')\n",
    "SPOTIFY_API_TOKEN_URL = os.getenv('SPOTIFY_API_TOKEN_URL')\n",
    "# redirect uri\n",
    "SPOTIFY_API_REDIRECT_URI = os.getenv('SPOTIFY_API_REDIRECT_URI')\n",
    "# api paths\n",
    "TRACK_AUDIO_FEATURES_ENDPOINT = os.getenv('TRACK_AUDIO_FEATURES_ENDPOINT')\n",
    "USER_TOP_TRACKS_ENDPOINT = os.getenv('USER_TOP_TRACKS_ENDPOINT')"
   ]
  },
  {
   "cell_type": "code",
   "execution_count": 6,
   "metadata": {},
   "outputs": [],
   "source": [
    "res = requests.get(f\"{SPOTIFY_API_BASE_URL}{USER_TOP_TRACKS_ENDPOINT}\", headers = {\n",
    "    \"Authorization\": f\"Bearer {spotify.get_access_token()}\"\n",
    "}).json()\n",
    "\n",
    "# print(json.dumps(res['items'][0], indent=2))"
   ]
  },
  {
   "cell_type": "code",
   "execution_count": 7,
   "metadata": {},
   "outputs": [],
   "source": [
    "top_tracks = []\n",
    "for item in res['items']:\n",
    "    artists = [artist['name'] for artist in item['artists']]\n",
    "    total_seconds = math.floor(item['duration_ms'] / 1000)\n",
    "    leftover_seconds = total_seconds % 60\n",
    "    duration = f\"{total_seconds // 60}:{'0{}'.format(leftover_seconds) if leftover_seconds < 10 else leftover_seconds}\"\n",
    "    track = [\n",
    "        item['id'],\n",
    "        item['name'],\n",
    "        ', '.join(artists),\n",
    "        duration,\n",
    "        item['album']['id'],\n",
    "        item['album']['name'],\n",
    "        item['album']['images'][0]\n",
    "    ]\n",
    "    top_tracks.append(track)"
   ]
  },
  {
   "cell_type": "code",
   "execution_count": 8,
   "metadata": {},
   "outputs": [],
   "source": [
    "def fetch_track_audio_features(track_id):\n",
    "    res = requests.get(f\"{SPOTIFY_API_BASE_URL}{TRACK_AUDIO_FEATURES_ENDPOINT}{track_id}\", headers = {\n",
    "        \"Authorization\": f\"Bearer {spotify.get_access_token()}\"\n",
    "    }).json()\n",
    "    return res\n",
    "\n",
    "for track in top_tracks:\n",
    "    audio_features = fetch_track_audio_features(track[0])\n",
    "    track += [audio_features['danceability'], audio_features['energy'], audio_features['key'],\n",
    "              audio_features['loudness'], audio_features['mode'], audio_features['speechiness'],\n",
    "              audio_features['acousticness'], audio_features['instrumentalness'], audio_features['liveness'],\n",
    "              audio_features['valence'], audio_features['tempo']]\n",
    "    "
   ]
  },
  {
   "cell_type": "code",
   "execution_count": 15,
   "metadata": {},
   "outputs": [],
   "source": [
    "GENIUS_API_BASE_URL = os.getenv('GENIUS_API_BASE_URL')\n",
    "GENIUS_API_ACCESS_TOKEN = os.getenv('GENIUS_API_ACCESS_TOKEN')\n",
    "\n",
    "genius = lg.Genius(GENIUS_API_ACCESS_TOKEN)"
   ]
  },
  {
   "cell_type": "code",
   "execution_count": 16,
   "metadata": {},
   "outputs": [
    {
     "name": "stdout",
     "output_type": "stream",
     "text": [
      "Searching for songs by Khruangbin...\n",
      "\n",
      "Song 1: \"White Gloves\"\n",
      "Song 2: \"Cómo Te Quiero\"\n",
      "Song 3: \"Pelota\"\n",
      "Song 4: \"So We Won’t Forget\"\n",
      "Song 5: \"Connaissais de Face\"\n",
      "Song 6: \"Time (You and I)\"\n",
      "Song 7: \"Friday Morning\"\n",
      "Song 8: \"Evan Finds the Third Room\"\n",
      "Song 9: \"Lady and Man\"\n",
      "Couldn't find the lyrics section. Please report this if the song has lyrics.\n",
      "Song URL: https://genius.com/Khruangbin-como-me-quieres-lyrics\n",
      "Song 10: \"Cómo Me Quieres\"\n",
      "\n",
      "Reached user-specified song limit (10).\n",
      "Done. Found 10 songs.\n",
      "Title: White Gloves, Lyrics: 17 ContributorsWhite Gloves Lyrics[Verse 1]\n",
      "She was a queen\n",
      "She had a house\n",
      "She was a fighter\n",
      "She wa...\n",
      "Title: Cómo Te Quiero, Lyrics: 10 ContributorsCómo Te Quiero Lyrics[Intro]\n",
      "(Ooh)\n",
      "(Ooh)\n",
      "You're always\n",
      "Forever in my heart\n",
      "\n",
      "[Interlud...\n",
      "Title: Pelota, Lyrics: 14 ContributorsPelota Lyrics[Verse 1]\n",
      "Soy una pelota\n",
      "Una pelota de hollín\n",
      "Yo estaba perdido\n",
      "En una c...\n",
      "Title: So We Won’t Forget, Lyrics: 17 ContributorsSo We Won’t Forget Lyrics[Chorus]\n",
      "Ooh, one to remember\n",
      "Writing it down now\n",
      "So we won'...\n",
      "Title: Connaissais de Face, Lyrics: 30 ContributorsConnaissais de Face Lyrics[Spoken Word: Mark Speer & Laura Lee]\n",
      "M: \"It makes me think...\n",
      "Title: Time (You and I), Lyrics: 13 ContributorsTime (You and I) Lyrics[Chorus]\n",
      "That's life\n",
      "If we had more time, we could live foreve...\n",
      "Title: Friday Morning, Lyrics: 8 ContributorsFriday Morning Lyrics[Verse 1]\n",
      "You are pretty colors\n",
      "Find you in the morning\n",
      "\n",
      "[Chorus]...\n",
      "Title: Evan Finds the Third Room, Lyrics: 7 ContributorsEvan Finds the Third Room Lyrics[Chorus]\n",
      "Yes, yes, yes, yes\n",
      "Yes, this is the third roo...\n",
      "Title: Lady and Man, Lyrics: 8 ContributorsLady and Man Lyrics[Intro]\n",
      "(Ooh)\n",
      "\n",
      "[Interlude]\n",
      "(Ooh)\n",
      "(Ooh)\n",
      "\n",
      "[Interlude]\n",
      "(Ooh)\n",
      "(Ooh)\n",
      "\n",
      "[V...\n",
      "Title: Cómo Me Quieres, Lyrics: ...\n"
     ]
    }
   ],
   "source": [
    "artist_name = 'Khruangbin'\n",
    "artist = genius.search_artist(artist_name, max_songs=10)\n",
    "for song in artist.songs:\n",
    "    print(f\"Title: {song.title}, Lyrics: {song.lyrics[:100]}...\")  # Print a portion of the lyrics\n",
    "\n",
    "# TODO: search for song lyrics (100-500 char should be enough) and append to df\n",
    "\n",
    "# print(len(top_tracks[0]))\n",
    "# tracks_df = pd.DataFrame(top_tracks, columns=[\n",
    "#     'Track ID', 'Track Name', 'Artists', 'Duration', 'Album ID', 'Album Name', 'Image',\n",
    "#     'Danceability', 'Energy', 'Key', 'Loudness', 'Mode', 'Speechiness', 'Acousticness', 'Instrumentalness',\n",
    "#     'Liveness', 'Valence', 'Tempo'\n",
    "# ])\n",
    "# display(tracks_df)"
   ]
  },
  {
   "cell_type": "code",
   "execution_count": null,
   "metadata": {},
   "outputs": [],
   "source": []
  },
  {
   "cell_type": "code",
   "execution_count": null,
   "metadata": {},
   "outputs": [],
   "source": []
  }
 ],
 "metadata": {
  "kernelspec": {
   "display_name": "Python 3",
   "language": "python",
   "name": "python3"
  },
  "language_info": {
   "codemirror_mode": {
    "name": "ipython",
    "version": 3
   },
   "file_extension": ".py",
   "mimetype": "text/x-python",
   "name": "python",
   "nbconvert_exporter": "python",
   "pygments_lexer": "ipython3",
   "version": "3.11.4"
  },
  "orig_nbformat": 4
 },
 "nbformat": 4,
 "nbformat_minor": 2
}
